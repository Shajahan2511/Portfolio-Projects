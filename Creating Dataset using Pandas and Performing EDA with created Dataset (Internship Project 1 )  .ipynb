{
 "cells": [
  {
   "cell_type": "markdown",
   "id": "7f61b272-e13e-49bb-8f82-0ef55d93671e",
   "metadata": {},
   "source": [
    "# 1) Creating a dataset with 6 columns and 8 rows using pandas on the Application healthcare updates Using WHO Data.\n",
    "# 2) Perform Exploratory Data Anaysis using Above Created Dataset.\n"
   ]
  },
  {
   "cell_type": "code",
   "execution_count": 3,
   "id": "006f094b-e3d2-40eb-86aa-7ade95df4a15",
   "metadata": {},
   "outputs": [],
   "source": [
    "import pandas as pd\n",
    "import numpy as np\n",
    "import matplotlib as plt\n",
    "\n",
    "\n"
   ]
  },
  {
   "cell_type": "code",
   "execution_count": 4,
   "id": "aef988b0-5080-4e9f-af15-7c68ef9b1e9d",
   "metadata": {},
   "outputs": [
    {
     "data": {
      "text/html": [
       "<style type=\"text/css\">\n",
       "#T_5c20e_row0_col6, #T_5c20e_row2_col6, #T_5c20e_row4_col6, #T_5c20e_row6_col6, #T_5c20e_row7_col6 {\n",
       "  background-color: red;\n",
       "}\n",
       "</style>\n",
       "<table id=\"T_5c20e\">\n",
       "  <thead>\n",
       "    <tr>\n",
       "      <th class=\"blank level0\" >&nbsp;</th>\n",
       "      <th id=\"T_5c20e_level0_col0\" class=\"col_heading level0 col0\" >Update_ID</th>\n",
       "      <th id=\"T_5c20e_level0_col1\" class=\"col_heading level0 col1\" >Date</th>\n",
       "      <th id=\"T_5c20e_level0_col2\" class=\"col_heading level0 col2\" >Region</th>\n",
       "      <th id=\"T_5c20e_level0_col3\" class=\"col_heading level0 col3\" >no.of patients in(k)</th>\n",
       "      <th id=\"T_5c20e_level0_col4\" class=\"col_heading level0 col4\" >Topic</th>\n",
       "      <th id=\"T_5c20e_level0_col5\" class=\"col_heading level0 col5\" >Summary</th>\n",
       "      <th id=\"T_5c20e_level0_col6\" class=\"col_heading level0 col6\" >Impact</th>\n",
       "    </tr>\n",
       "  </thead>\n",
       "  <tbody>\n",
       "    <tr>\n",
       "      <th id=\"T_5c20e_level0_row0\" class=\"row_heading level0 row0\" >0</th>\n",
       "      <td id=\"T_5c20e_row0_col0\" class=\"data row0 col0\" >WH01</td>\n",
       "      <td id=\"T_5c20e_row0_col1\" class=\"data row0 col1\" >2025-01-01</td>\n",
       "      <td id=\"T_5c20e_row0_col2\" class=\"data row0 col2\" >Europe</td>\n",
       "      <td id=\"T_5c20e_row0_col3\" class=\"data row0 col3\" >12</td>\n",
       "      <td id=\"T_5c20e_row0_col4\" class=\"data row0 col4\" >Vaccine Rollout</td>\n",
       "      <td id=\"T_5c20e_row0_col5\" class=\"data row0 col5\" >WHO announces new vaccine rollout guidelines for 2025.</td>\n",
       "      <td id=\"T_5c20e_row0_col6\" class=\"data row0 col6\" >High</td>\n",
       "    </tr>\n",
       "    <tr>\n",
       "      <th id=\"T_5c20e_level0_row1\" class=\"row_heading level0 row1\" >1</th>\n",
       "      <td id=\"T_5c20e_row1_col0\" class=\"data row1 col0\" >WH02</td>\n",
       "      <td id=\"T_5c20e_row1_col1\" class=\"data row1 col1\" >2025-01-02</td>\n",
       "      <td id=\"T_5c20e_row1_col2\" class=\"data row1 col2\" >Asia</td>\n",
       "      <td id=\"T_5c20e_row1_col3\" class=\"data row1 col3\" >182</td>\n",
       "      <td id=\"T_5c20e_row1_col4\" class=\"data row1 col4\" >COVID-19 Variants</td>\n",
       "      <td id=\"T_5c20e_row1_col5\" class=\"data row1 col5\" >New variants of COVID-19 identified in Asia.</td>\n",
       "      <td id=\"T_5c20e_row1_col6\" class=\"data row1 col6\" >Moderate</td>\n",
       "    </tr>\n",
       "    <tr>\n",
       "      <th id=\"T_5c20e_level0_row2\" class=\"row_heading level0 row2\" >2</th>\n",
       "      <td id=\"T_5c20e_row2_col0\" class=\"data row2 col0\" >WH03</td>\n",
       "      <td id=\"T_5c20e_row2_col1\" class=\"data row2 col1\" >2025-01-03</td>\n",
       "      <td id=\"T_5c20e_row2_col2\" class=\"data row2 col2\" >Africa</td>\n",
       "      <td id=\"T_5c20e_row2_col3\" class=\"data row2 col3\" >203</td>\n",
       "      <td id=\"T_5c20e_row2_col4\" class=\"data row2 col4\" >Malaria Prevention</td>\n",
       "      <td id=\"T_5c20e_row2_col5\" class=\"data row2 col5\" >New strategies for malaria prevention in Africa.</td>\n",
       "      <td id=\"T_5c20e_row2_col6\" class=\"data row2 col6\" >High</td>\n",
       "    </tr>\n",
       "    <tr>\n",
       "      <th id=\"T_5c20e_level0_row3\" class=\"row_heading level0 row3\" >3</th>\n",
       "      <td id=\"T_5c20e_row3_col0\" class=\"data row3 col0\" >WH04</td>\n",
       "      <td id=\"T_5c20e_row3_col1\" class=\"data row3 col1\" >2025-01-04</td>\n",
       "      <td id=\"T_5c20e_row3_col2\" class=\"data row3 col2\" >Americas</td>\n",
       "      <td id=\"T_5c20e_row3_col3\" class=\"data row3 col3\" >123</td>\n",
       "      <td id=\"T_5c20e_row3_col4\" class=\"data row3 col4\" >Mental Health</td>\n",
       "      <td id=\"T_5c20e_row3_col5\" class=\"data row3 col5\" >WHO highlights mental health resources in the Americas.</td>\n",
       "      <td id=\"T_5c20e_row3_col6\" class=\"data row3 col6\" >Moderate</td>\n",
       "    </tr>\n",
       "    <tr>\n",
       "      <th id=\"T_5c20e_level0_row4\" class=\"row_heading level0 row4\" >4</th>\n",
       "      <td id=\"T_5c20e_row4_col0\" class=\"data row4 col0\" >WH05</td>\n",
       "      <td id=\"T_5c20e_row4_col1\" class=\"data row4 col1\" >2025-01-05</td>\n",
       "      <td id=\"T_5c20e_row4_col2\" class=\"data row4 col2\" >Europe</td>\n",
       "      <td id=\"T_5c20e_row4_col3\" class=\"data row4 col3\" >321</td>\n",
       "      <td id=\"T_5c20e_row4_col4\" class=\"data row4 col4\" >Healthcare Workforce</td>\n",
       "      <td id=\"T_5c20e_row4_col5\" class=\"data row4 col5\" >Shortage of healthcare workers in Europe addressed by WHO.</td>\n",
       "      <td id=\"T_5c20e_row4_col6\" class=\"data row4 col6\" >High</td>\n",
       "    </tr>\n",
       "    <tr>\n",
       "      <th id=\"T_5c20e_level0_row5\" class=\"row_heading level0 row5\" >5</th>\n",
       "      <td id=\"T_5c20e_row5_col0\" class=\"data row5 col0\" >WH06</td>\n",
       "      <td id=\"T_5c20e_row5_col1\" class=\"data row5 col1\" >2025-01-06</td>\n",
       "      <td id=\"T_5c20e_row5_col2\" class=\"data row5 col2\" >Asia</td>\n",
       "      <td id=\"T_5c20e_row5_col3\" class=\"data row5 col3\" >34</td>\n",
       "      <td id=\"T_5c20e_row5_col4\" class=\"data row5 col4\" >Non-Communicable Diseases</td>\n",
       "      <td id=\"T_5c20e_row5_col5\" class=\"data row5 col5\" >Focus on reducing non-communicable diseases in Asia.</td>\n",
       "      <td id=\"T_5c20e_row5_col6\" class=\"data row5 col6\" >Moderate</td>\n",
       "    </tr>\n",
       "    <tr>\n",
       "      <th id=\"T_5c20e_level0_row6\" class=\"row_heading level0 row6\" >6</th>\n",
       "      <td id=\"T_5c20e_row6_col0\" class=\"data row6 col0\" >WH07</td>\n",
       "      <td id=\"T_5c20e_row6_col1\" class=\"data row6 col1\" >2025-01-07</td>\n",
       "      <td id=\"T_5c20e_row6_col2\" class=\"data row6 col2\" >Africa</td>\n",
       "      <td id=\"T_5c20e_row6_col3\" class=\"data row6 col3\" >65</td>\n",
       "      <td id=\"T_5c20e_row6_col4\" class=\"data row6 col4\" >HIV/AIDS Treatment</td>\n",
       "      <td id=\"T_5c20e_row6_col5\" class=\"data row6 col5\" >Progress in HIV/AIDS treatment protocols in Africa.</td>\n",
       "      <td id=\"T_5c20e_row6_col6\" class=\"data row6 col6\" >High</td>\n",
       "    </tr>\n",
       "    <tr>\n",
       "      <th id=\"T_5c20e_level0_row7\" class=\"row_heading level0 row7\" >7</th>\n",
       "      <td id=\"T_5c20e_row7_col0\" class=\"data row7 col0\" >WH08</td>\n",
       "      <td id=\"T_5c20e_row7_col1\" class=\"data row7 col1\" >2025-01-08</td>\n",
       "      <td id=\"T_5c20e_row7_col2\" class=\"data row7 col2\" >Americas</td>\n",
       "      <td id=\"T_5c20e_row7_col3\" class=\"data row7 col3\" >34</td>\n",
       "      <td id=\"T_5c20e_row7_col4\" class=\"data row7 col4\" >Telemedicine</td>\n",
       "      <td id=\"T_5c20e_row7_col5\" class=\"data row7 col5\" >Telemedicine adoption increased in the Americas.</td>\n",
       "      <td id=\"T_5c20e_row7_col6\" class=\"data row7 col6\" >High</td>\n",
       "    </tr>\n",
       "  </tbody>\n",
       "</table>\n"
      ],
      "text/plain": [
       "<pandas.io.formats.style.Styler at 0x18122330f50>"
      ]
     },
     "execution_count": 4,
     "metadata": {},
     "output_type": "execute_result"
    }
   ],
   "source": [
    "# Creating dataframe \n",
    "\n",
    "data = {\n",
    "    \"Update_ID\": ['WH01','WH02','WH03','WH04','WH05','WH06','WH07','WH08'],\n",
    "    \"Date\": [\"2025-01-01\", \"2025-01-02\", \"2025-01-03\", \"2025-01-04\", \"2025-01-05\", \"2025-01-06\", \"2025-01-07\", \"2025-01-08\"],\n",
    "    \"Region\": [\"Europe\", \"Asia\", \"Africa\", \"Americas\", \"Europe\", \"Asia\", \"Africa\", \"Americas\"],\n",
    "    \"no.of patients in(k)\": [12,182,203,123,321,34,65,34],\n",
    "    \"Topic\": [\"Vaccine Rollout\", \"COVID-19 Variants\", \"Malaria Prevention\", \"Mental Health\", \"Healthcare Workforce\", \"Non-Communicable Diseases\", \"HIV/AIDS Treatment\", \"Telemedicine\"],\n",
    "    \"Summary\": [\n",
    "        \"WHO announces new vaccine rollout guidelines for 2025.\",\n",
    "        \"New variants of COVID-19 identified in Asia.\",\n",
    "        \"New strategies for malaria prevention in Africa.\",\n",
    "        \"WHO highlights mental health resources in the Americas.\",\n",
    "        \"Shortage of healthcare workers in Europe addressed by WHO.\",\n",
    "        \"Focus on reducing non-communicable diseases in Asia.\",\n",
    "        \"Progress in HIV/AIDS treatment protocols in Africa.\",\n",
    "        \"Telemedicine adoption increased in the Americas.\"\n",
    "    ],\n",
    "    \"Impact\": [\"High\", \"Moderate\", \"High\", \"Moderate\", \"High\", \"Moderate\", \"High\", \"High\"]\n",
    "}\n",
    "\n",
    "healthcare_updates_df = pd.DataFrame(data)\n",
    "healthcare_updates_df\n",
    "\n",
    "styled_df = healthcare_updates_df.style.set_properties(**{\n",
    "    'text-align': 'Right to left'\n",
    "}).set_table_styles([{\n",
    "    'selector': 'th',\n",
    "    'props': [('text-align', 'Right to left')]\n",
    "}])\n",
    "\n",
    "styled_df\n",
    "\n",
    "def highlight_High_Impact(s):\n",
    "    return ['background-color: red' if v == \"High\" else '' for v in s]\n",
    "\n",
    "styled_highlight_df = healthcare_updates_df.style.apply(highlight_High_Impact, subset=['Impact'])\n",
    "\n",
    "styled_highlight_df"
   ]
  },
  {
   "cell_type": "markdown",
   "id": "0e38bd07-b11a-401f-858e-2e9b025af582",
   "metadata": {},
   "source": [
    "# Using Created Dataset performing EDA."
   ]
  },
  {
   "cell_type": "code",
   "execution_count": 33,
   "id": "01c755fa-69c1-4a2d-988a-783d2229b3ec",
   "metadata": {},
   "outputs": [
    {
     "data": {
      "text/html": [
       "<div>\n",
       "<style scoped>\n",
       "    .dataframe tbody tr th:only-of-type {\n",
       "        vertical-align: middle;\n",
       "    }\n",
       "\n",
       "    .dataframe tbody tr th {\n",
       "        vertical-align: top;\n",
       "    }\n",
       "\n",
       "    .dataframe thead th {\n",
       "        text-align: right;\n",
       "    }\n",
       "</style>\n",
       "<table border=\"1\" class=\"dataframe\">\n",
       "  <thead>\n",
       "    <tr style=\"text-align: right;\">\n",
       "      <th></th>\n",
       "      <th>Update_ID</th>\n",
       "      <th>Date</th>\n",
       "      <th>Region</th>\n",
       "      <th>no.of patients in(k)</th>\n",
       "      <th>Topic</th>\n",
       "      <th>Summary</th>\n",
       "      <th>Impact</th>\n",
       "    </tr>\n",
       "  </thead>\n",
       "  <tbody>\n",
       "    <tr>\n",
       "      <th>0</th>\n",
       "      <td>WH01</td>\n",
       "      <td>2025-01-01</td>\n",
       "      <td>Europe</td>\n",
       "      <td>12</td>\n",
       "      <td>Vaccine Rollout</td>\n",
       "      <td>WHO announces new vaccine rollout guidelines f...</td>\n",
       "      <td>High</td>\n",
       "    </tr>\n",
       "    <tr>\n",
       "      <th>1</th>\n",
       "      <td>WH02</td>\n",
       "      <td>2025-01-02</td>\n",
       "      <td>Asia</td>\n",
       "      <td>182</td>\n",
       "      <td>COVID-19 Variants</td>\n",
       "      <td>New variants of COVID-19 identified in Asia.</td>\n",
       "      <td>Moderate</td>\n",
       "    </tr>\n",
       "    <tr>\n",
       "      <th>2</th>\n",
       "      <td>WH03</td>\n",
       "      <td>2025-01-03</td>\n",
       "      <td>Africa</td>\n",
       "      <td>203</td>\n",
       "      <td>Malaria Prevention</td>\n",
       "      <td>New strategies for malaria prevention in Africa.</td>\n",
       "      <td>High</td>\n",
       "    </tr>\n",
       "    <tr>\n",
       "      <th>3</th>\n",
       "      <td>WH04</td>\n",
       "      <td>2025-01-04</td>\n",
       "      <td>Americas</td>\n",
       "      <td>123</td>\n",
       "      <td>Mental Health</td>\n",
       "      <td>WHO highlights mental health resources in the ...</td>\n",
       "      <td>Moderate</td>\n",
       "    </tr>\n",
       "    <tr>\n",
       "      <th>4</th>\n",
       "      <td>WH05</td>\n",
       "      <td>2025-01-05</td>\n",
       "      <td>Europe</td>\n",
       "      <td>321</td>\n",
       "      <td>Healthcare Workforce</td>\n",
       "      <td>Shortage of healthcare workers in Europe addre...</td>\n",
       "      <td>High</td>\n",
       "    </tr>\n",
       "  </tbody>\n",
       "</table>\n",
       "</div>"
      ],
      "text/plain": [
       "  Update_ID        Date    Region  no.of patients in(k)                 Topic  \\\n",
       "0      WH01  2025-01-01    Europe                    12       Vaccine Rollout   \n",
       "1      WH02  2025-01-02      Asia                   182     COVID-19 Variants   \n",
       "2      WH03  2025-01-03    Africa                   203    Malaria Prevention   \n",
       "3      WH04  2025-01-04  Americas                   123         Mental Health   \n",
       "4      WH05  2025-01-05    Europe                   321  Healthcare Workforce   \n",
       "\n",
       "                                             Summary    Impact  \n",
       "0  WHO announces new vaccine rollout guidelines f...      High  \n",
       "1       New variants of COVID-19 identified in Asia.  Moderate  \n",
       "2   New strategies for malaria prevention in Africa.      High  \n",
       "3  WHO highlights mental health resources in the ...  Moderate  \n",
       "4  Shortage of healthcare workers in Europe addre...      High  "
      ]
     },
     "execution_count": 33,
     "metadata": {},
     "output_type": "execute_result"
    }
   ],
   "source": [
    "healthcare_updates_df.head()"
   ]
  },
  {
   "cell_type": "code",
   "execution_count": 34,
   "id": "5142ad53-1a8c-4ec7-9fb0-8b308e986901",
   "metadata": {},
   "outputs": [
    {
     "data": {
      "text/html": [
       "<div>\n",
       "<style scoped>\n",
       "    .dataframe tbody tr th:only-of-type {\n",
       "        vertical-align: middle;\n",
       "    }\n",
       "\n",
       "    .dataframe tbody tr th {\n",
       "        vertical-align: top;\n",
       "    }\n",
       "\n",
       "    .dataframe thead th {\n",
       "        text-align: right;\n",
       "    }\n",
       "</style>\n",
       "<table border=\"1\" class=\"dataframe\">\n",
       "  <thead>\n",
       "    <tr style=\"text-align: right;\">\n",
       "      <th></th>\n",
       "      <th>Update_ID</th>\n",
       "      <th>Date</th>\n",
       "      <th>Region</th>\n",
       "      <th>no.of patients in(k)</th>\n",
       "      <th>Topic</th>\n",
       "      <th>Summary</th>\n",
       "      <th>Impact</th>\n",
       "    </tr>\n",
       "  </thead>\n",
       "  <tbody>\n",
       "    <tr>\n",
       "      <th>3</th>\n",
       "      <td>WH04</td>\n",
       "      <td>2025-01-04</td>\n",
       "      <td>Americas</td>\n",
       "      <td>123</td>\n",
       "      <td>Mental Health</td>\n",
       "      <td>WHO highlights mental health resources in the ...</td>\n",
       "      <td>Moderate</td>\n",
       "    </tr>\n",
       "    <tr>\n",
       "      <th>4</th>\n",
       "      <td>WH05</td>\n",
       "      <td>2025-01-05</td>\n",
       "      <td>Europe</td>\n",
       "      <td>321</td>\n",
       "      <td>Healthcare Workforce</td>\n",
       "      <td>Shortage of healthcare workers in Europe addre...</td>\n",
       "      <td>High</td>\n",
       "    </tr>\n",
       "    <tr>\n",
       "      <th>5</th>\n",
       "      <td>WH06</td>\n",
       "      <td>2025-01-06</td>\n",
       "      <td>Asia</td>\n",
       "      <td>34</td>\n",
       "      <td>Non-Communicable Diseases</td>\n",
       "      <td>Focus on reducing non-communicable diseases in...</td>\n",
       "      <td>Moderate</td>\n",
       "    </tr>\n",
       "    <tr>\n",
       "      <th>6</th>\n",
       "      <td>WH07</td>\n",
       "      <td>2025-01-07</td>\n",
       "      <td>Africa</td>\n",
       "      <td>65</td>\n",
       "      <td>HIV/AIDS Treatment</td>\n",
       "      <td>Progress in HIV/AIDS treatment protocols in Af...</td>\n",
       "      <td>High</td>\n",
       "    </tr>\n",
       "    <tr>\n",
       "      <th>7</th>\n",
       "      <td>WH08</td>\n",
       "      <td>2025-01-08</td>\n",
       "      <td>Americas</td>\n",
       "      <td>34</td>\n",
       "      <td>Telemedicine</td>\n",
       "      <td>Telemedicine adoption increased in the Americas.</td>\n",
       "      <td>High</td>\n",
       "    </tr>\n",
       "  </tbody>\n",
       "</table>\n",
       "</div>"
      ],
      "text/plain": [
       "  Update_ID        Date    Region  no.of patients in(k)  \\\n",
       "3      WH04  2025-01-04  Americas                   123   \n",
       "4      WH05  2025-01-05    Europe                   321   \n",
       "5      WH06  2025-01-06      Asia                    34   \n",
       "6      WH07  2025-01-07    Africa                    65   \n",
       "7      WH08  2025-01-08  Americas                    34   \n",
       "\n",
       "                       Topic  \\\n",
       "3              Mental Health   \n",
       "4       Healthcare Workforce   \n",
       "5  Non-Communicable Diseases   \n",
       "6         HIV/AIDS Treatment   \n",
       "7               Telemedicine   \n",
       "\n",
       "                                             Summary    Impact  \n",
       "3  WHO highlights mental health resources in the ...  Moderate  \n",
       "4  Shortage of healthcare workers in Europe addre...      High  \n",
       "5  Focus on reducing non-communicable diseases in...  Moderate  \n",
       "6  Progress in HIV/AIDS treatment protocols in Af...      High  \n",
       "7   Telemedicine adoption increased in the Americas.      High  "
      ]
     },
     "execution_count": 34,
     "metadata": {},
     "output_type": "execute_result"
    }
   ],
   "source": [
    "healthcare_updates_df.tail()"
   ]
  },
  {
   "cell_type": "code",
   "execution_count": 35,
   "id": "8a344b40-5c19-493d-83f9-2bb4580ab7d9",
   "metadata": {},
   "outputs": [
    {
     "name": "stdout",
     "output_type": "stream",
     "text": [
      "<class 'pandas.core.frame.DataFrame'>\n",
      "RangeIndex: 8 entries, 0 to 7\n",
      "Data columns (total 7 columns):\n",
      " #   Column                Non-Null Count  Dtype \n",
      "---  ------                --------------  ----- \n",
      " 0   Update_ID             8 non-null      object\n",
      " 1   Date                  8 non-null      object\n",
      " 2   Region                8 non-null      object\n",
      " 3   no.of patients in(k)  8 non-null      int64 \n",
      " 4   Topic                 8 non-null      object\n",
      " 5   Summary               8 non-null      object\n",
      " 6   Impact                8 non-null      object\n",
      "dtypes: int64(1), object(6)\n",
      "memory usage: 580.0+ bytes\n"
     ]
    }
   ],
   "source": [
    "healthcare_updates_df.info()"
   ]
  },
  {
   "cell_type": "code",
   "execution_count": 36,
   "id": "ca0b0cc7-6bd7-47e7-88e5-6241b9f04a14",
   "metadata": {},
   "outputs": [
    {
     "data": {
      "text/plain": [
       "(8, 7)"
      ]
     },
     "execution_count": 36,
     "metadata": {},
     "output_type": "execute_result"
    }
   ],
   "source": [
    "healthcare_updates_df.shape"
   ]
  },
  {
   "cell_type": "code",
   "execution_count": 37,
   "id": "745f444c-50ac-4106-9c65-c81c0f7697e8",
   "metadata": {},
   "outputs": [
    {
     "data": {
      "text/html": [
       "<div>\n",
       "<style scoped>\n",
       "    .dataframe tbody tr th:only-of-type {\n",
       "        vertical-align: middle;\n",
       "    }\n",
       "\n",
       "    .dataframe tbody tr th {\n",
       "        vertical-align: top;\n",
       "    }\n",
       "\n",
       "    .dataframe thead th {\n",
       "        text-align: right;\n",
       "    }\n",
       "</style>\n",
       "<table border=\"1\" class=\"dataframe\">\n",
       "  <thead>\n",
       "    <tr style=\"text-align: right;\">\n",
       "      <th></th>\n",
       "      <th>no.of patients in(k)</th>\n",
       "    </tr>\n",
       "  </thead>\n",
       "  <tbody>\n",
       "    <tr>\n",
       "      <th>count</th>\n",
       "      <td>8.000000</td>\n",
       "    </tr>\n",
       "    <tr>\n",
       "      <th>mean</th>\n",
       "      <td>121.750000</td>\n",
       "    </tr>\n",
       "    <tr>\n",
       "      <th>std</th>\n",
       "      <td>107.304307</td>\n",
       "    </tr>\n",
       "    <tr>\n",
       "      <th>min</th>\n",
       "      <td>12.000000</td>\n",
       "    </tr>\n",
       "    <tr>\n",
       "      <th>25%</th>\n",
       "      <td>34.000000</td>\n",
       "    </tr>\n",
       "    <tr>\n",
       "      <th>50%</th>\n",
       "      <td>94.000000</td>\n",
       "    </tr>\n",
       "    <tr>\n",
       "      <th>75%</th>\n",
       "      <td>187.250000</td>\n",
       "    </tr>\n",
       "    <tr>\n",
       "      <th>max</th>\n",
       "      <td>321.000000</td>\n",
       "    </tr>\n",
       "  </tbody>\n",
       "</table>\n",
       "</div>"
      ],
      "text/plain": [
       "       no.of patients in(k)\n",
       "count              8.000000\n",
       "mean             121.750000\n",
       "std              107.304307\n",
       "min               12.000000\n",
       "25%               34.000000\n",
       "50%               94.000000\n",
       "75%              187.250000\n",
       "max              321.000000"
      ]
     },
     "execution_count": 37,
     "metadata": {},
     "output_type": "execute_result"
    }
   ],
   "source": [
    "healthcare_updates_df.describe()"
   ]
  },
  {
   "cell_type": "code",
   "execution_count": 38,
   "id": "b0f084cc-db83-4be2-b0a1-19970b8b213d",
   "metadata": {},
   "outputs": [
    {
     "data": {
      "text/plain": [
       "Index(['Update_ID', 'Date', 'Region', 'no.of patients in(k)', 'Topic',\n",
       "       'Summary', 'Impact'],\n",
       "      dtype='object')"
      ]
     },
     "execution_count": 38,
     "metadata": {},
     "output_type": "execute_result"
    }
   ],
   "source": [
    "healthcare_updates_df.columns"
   ]
  },
  {
   "cell_type": "code",
   "execution_count": 39,
   "id": "eb75f994-8101-4720-a2cd-95a5c74277b3",
   "metadata": {},
   "outputs": [
    {
     "data": {
      "text/plain": [
       "Update_ID               object\n",
       "Date                    object\n",
       "Region                  object\n",
       "no.of patients in(k)     int64\n",
       "Topic                   object\n",
       "Summary                 object\n",
       "Impact                  object\n",
       "dtype: object"
      ]
     },
     "execution_count": 39,
     "metadata": {},
     "output_type": "execute_result"
    }
   ],
   "source": [
    "healthcare_updates_df.dtypes"
   ]
  },
  {
   "cell_type": "code",
   "execution_count": 40,
   "id": "0fcaa133-b6de-4638-ab79-fc8326eb52e6",
   "metadata": {},
   "outputs": [
    {
     "data": {
      "text/plain": [
       "Update_ID               8\n",
       "Date                    8\n",
       "Region                  4\n",
       "no.of patients in(k)    7\n",
       "Topic                   8\n",
       "Summary                 8\n",
       "Impact                  2\n",
       "dtype: int64"
      ]
     },
     "execution_count": 40,
     "metadata": {},
     "output_type": "execute_result"
    }
   ],
   "source": [
    "healthcare_updates_df.nunique()"
   ]
  },
  {
   "cell_type": "code",
   "execution_count": 41,
   "id": "a6e15ab7-8cf1-457a-9083-3b70552221f0",
   "metadata": {},
   "outputs": [
    {
     "data": {
      "text/plain": [
       "Update_ID  Date        Region    no.of patients in(k)  Topic                      Summary                                                     Impact  \n",
       "WH01       2025-01-01  Europe    12                    Vaccine Rollout            WHO announces new vaccine rollout guidelines for 2025.      High        1\n",
       "WH02       2025-01-02  Asia      182                   COVID-19 Variants          New variants of COVID-19 identified in Asia.                Moderate    1\n",
       "WH03       2025-01-03  Africa    203                   Malaria Prevention         New strategies for malaria prevention in Africa.            High        1\n",
       "WH04       2025-01-04  Americas  123                   Mental Health              WHO highlights mental health resources in the Americas.     Moderate    1\n",
       "WH05       2025-01-05  Europe    321                   Healthcare Workforce       Shortage of healthcare workers in Europe addressed by WHO.  High        1\n",
       "WH06       2025-01-06  Asia      34                    Non-Communicable Diseases  Focus on reducing non-communicable diseases in Asia.        Moderate    1\n",
       "WH07       2025-01-07  Africa    65                    HIV/AIDS Treatment         Progress in HIV/AIDS treatment protocols in Africa.         High        1\n",
       "WH08       2025-01-08  Americas  34                    Telemedicine               Telemedicine adoption increased in the Americas.            High        1\n",
       "Name: count, dtype: int64"
      ]
     },
     "execution_count": 41,
     "metadata": {},
     "output_type": "execute_result"
    }
   ],
   "source": [
    "healthcare_updates_df.value_counts()"
   ]
  },
  {
   "cell_type": "code",
   "execution_count": 42,
   "id": "2811993b-06da-4ef2-be38-5ef24c82ad05",
   "metadata": {},
   "outputs": [
    {
     "data": {
      "text/plain": [
       "Region\n",
       "Europe      2\n",
       "Asia        2\n",
       "Africa      2\n",
       "Americas    2\n",
       "Name: count, dtype: int64"
      ]
     },
     "execution_count": 42,
     "metadata": {},
     "output_type": "execute_result"
    }
   ],
   "source": [
    "healthcare_updates_df['Region'].value_counts()"
   ]
  },
  {
   "cell_type": "code",
   "execution_count": 45,
   "id": "b0bf150f-0c2b-49c7-950e-8cf708313e48",
   "metadata": {},
   "outputs": [
    {
     "data": {
      "text/html": [
       "<div>\n",
       "<style scoped>\n",
       "    .dataframe tbody tr th:only-of-type {\n",
       "        vertical-align: middle;\n",
       "    }\n",
       "\n",
       "    .dataframe tbody tr th {\n",
       "        vertical-align: top;\n",
       "    }\n",
       "\n",
       "    .dataframe thead th {\n",
       "        text-align: right;\n",
       "    }\n",
       "</style>\n",
       "<table border=\"1\" class=\"dataframe\">\n",
       "  <thead>\n",
       "    <tr style=\"text-align: right;\">\n",
       "      <th></th>\n",
       "      <th>Update_ID</th>\n",
       "      <th>Date</th>\n",
       "      <th>Region</th>\n",
       "      <th>no.of patients in(k)</th>\n",
       "      <th>Topic</th>\n",
       "      <th>Summary</th>\n",
       "      <th>Impact</th>\n",
       "    </tr>\n",
       "  </thead>\n",
       "  <tbody>\n",
       "    <tr>\n",
       "      <th>0</th>\n",
       "      <td>False</td>\n",
       "      <td>False</td>\n",
       "      <td>False</td>\n",
       "      <td>False</td>\n",
       "      <td>False</td>\n",
       "      <td>False</td>\n",
       "      <td>False</td>\n",
       "    </tr>\n",
       "    <tr>\n",
       "      <th>1</th>\n",
       "      <td>False</td>\n",
       "      <td>False</td>\n",
       "      <td>False</td>\n",
       "      <td>False</td>\n",
       "      <td>False</td>\n",
       "      <td>False</td>\n",
       "      <td>False</td>\n",
       "    </tr>\n",
       "    <tr>\n",
       "      <th>2</th>\n",
       "      <td>False</td>\n",
       "      <td>False</td>\n",
       "      <td>False</td>\n",
       "      <td>False</td>\n",
       "      <td>False</td>\n",
       "      <td>False</td>\n",
       "      <td>False</td>\n",
       "    </tr>\n",
       "    <tr>\n",
       "      <th>3</th>\n",
       "      <td>False</td>\n",
       "      <td>False</td>\n",
       "      <td>False</td>\n",
       "      <td>False</td>\n",
       "      <td>False</td>\n",
       "      <td>False</td>\n",
       "      <td>False</td>\n",
       "    </tr>\n",
       "    <tr>\n",
       "      <th>4</th>\n",
       "      <td>False</td>\n",
       "      <td>False</td>\n",
       "      <td>False</td>\n",
       "      <td>False</td>\n",
       "      <td>False</td>\n",
       "      <td>False</td>\n",
       "      <td>False</td>\n",
       "    </tr>\n",
       "    <tr>\n",
       "      <th>5</th>\n",
       "      <td>False</td>\n",
       "      <td>False</td>\n",
       "      <td>False</td>\n",
       "      <td>False</td>\n",
       "      <td>False</td>\n",
       "      <td>False</td>\n",
       "      <td>False</td>\n",
       "    </tr>\n",
       "    <tr>\n",
       "      <th>6</th>\n",
       "      <td>False</td>\n",
       "      <td>False</td>\n",
       "      <td>False</td>\n",
       "      <td>False</td>\n",
       "      <td>False</td>\n",
       "      <td>False</td>\n",
       "      <td>False</td>\n",
       "    </tr>\n",
       "    <tr>\n",
       "      <th>7</th>\n",
       "      <td>False</td>\n",
       "      <td>False</td>\n",
       "      <td>False</td>\n",
       "      <td>False</td>\n",
       "      <td>False</td>\n",
       "      <td>False</td>\n",
       "      <td>False</td>\n",
       "    </tr>\n",
       "  </tbody>\n",
       "</table>\n",
       "</div>"
      ],
      "text/plain": [
       "   Update_ID   Date  Region  no.of patients in(k)  Topic  Summary  Impact\n",
       "0      False  False   False                 False  False    False   False\n",
       "1      False  False   False                 False  False    False   False\n",
       "2      False  False   False                 False  False    False   False\n",
       "3      False  False   False                 False  False    False   False\n",
       "4      False  False   False                 False  False    False   False\n",
       "5      False  False   False                 False  False    False   False\n",
       "6      False  False   False                 False  False    False   False\n",
       "7      False  False   False                 False  False    False   False"
      ]
     },
     "execution_count": 45,
     "metadata": {},
     "output_type": "execute_result"
    }
   ],
   "source": [
    "healthcare_updates_df.isnull()"
   ]
  },
  {
   "cell_type": "code",
   "execution_count": 46,
   "id": "4ab39607-3d76-43a5-948d-b892e43695d5",
   "metadata": {},
   "outputs": [
    {
     "data": {
      "text/plain": [
       "Update_ID               0\n",
       "Date                    0\n",
       "Region                  0\n",
       "no.of patients in(k)    0\n",
       "Topic                   0\n",
       "Summary                 0\n",
       "Impact                  0\n",
       "dtype: int64"
      ]
     },
     "execution_count": 46,
     "metadata": {},
     "output_type": "execute_result"
    }
   ],
   "source": [
    "healthcare_updates_df.isnull().sum()"
   ]
  },
  {
   "cell_type": "code",
   "execution_count": 47,
   "id": "a6df6942-6201-4c02-9ccc-422c099e406e",
   "metadata": {},
   "outputs": [
    {
     "data": {
      "text/html": [
       "<div>\n",
       "<style scoped>\n",
       "    .dataframe tbody tr th:only-of-type {\n",
       "        vertical-align: middle;\n",
       "    }\n",
       "\n",
       "    .dataframe tbody tr th {\n",
       "        vertical-align: top;\n",
       "    }\n",
       "\n",
       "    .dataframe thead th {\n",
       "        text-align: right;\n",
       "    }\n",
       "</style>\n",
       "<table border=\"1\" class=\"dataframe\">\n",
       "  <thead>\n",
       "    <tr style=\"text-align: right;\">\n",
       "      <th></th>\n",
       "      <th>Update_ID</th>\n",
       "      <th>Date</th>\n",
       "      <th>Region</th>\n",
       "      <th>no.of patients in(k)</th>\n",
       "      <th>Topic</th>\n",
       "      <th>Summary</th>\n",
       "      <th>Impact</th>\n",
       "    </tr>\n",
       "  </thead>\n",
       "  <tbody>\n",
       "    <tr>\n",
       "      <th>6</th>\n",
       "      <td>WH07</td>\n",
       "      <td>2025-01-07</td>\n",
       "      <td>Africa</td>\n",
       "      <td>65</td>\n",
       "      <td>HIV/AIDS Treatment</td>\n",
       "      <td>Progress in HIV/AIDS treatment protocols in Af...</td>\n",
       "      <td>High</td>\n",
       "    </tr>\n",
       "    <tr>\n",
       "      <th>5</th>\n",
       "      <td>WH06</td>\n",
       "      <td>2025-01-06</td>\n",
       "      <td>Asia</td>\n",
       "      <td>34</td>\n",
       "      <td>Non-Communicable Diseases</td>\n",
       "      <td>Focus on reducing non-communicable diseases in...</td>\n",
       "      <td>Moderate</td>\n",
       "    </tr>\n",
       "    <tr>\n",
       "      <th>7</th>\n",
       "      <td>WH08</td>\n",
       "      <td>2025-01-08</td>\n",
       "      <td>Americas</td>\n",
       "      <td>34</td>\n",
       "      <td>Telemedicine</td>\n",
       "      <td>Telemedicine adoption increased in the Americas.</td>\n",
       "      <td>High</td>\n",
       "    </tr>\n",
       "    <tr>\n",
       "      <th>1</th>\n",
       "      <td>WH02</td>\n",
       "      <td>2025-01-02</td>\n",
       "      <td>Asia</td>\n",
       "      <td>182</td>\n",
       "      <td>COVID-19 Variants</td>\n",
       "      <td>New variants of COVID-19 identified in Asia.</td>\n",
       "      <td>Moderate</td>\n",
       "    </tr>\n",
       "    <tr>\n",
       "      <th>3</th>\n",
       "      <td>WH04</td>\n",
       "      <td>2025-01-04</td>\n",
       "      <td>Americas</td>\n",
       "      <td>123</td>\n",
       "      <td>Mental Health</td>\n",
       "      <td>WHO highlights mental health resources in the ...</td>\n",
       "      <td>Moderate</td>\n",
       "    </tr>\n",
       "  </tbody>\n",
       "</table>\n",
       "</div>"
      ],
      "text/plain": [
       "  Update_ID        Date    Region  no.of patients in(k)  \\\n",
       "6      WH07  2025-01-07    Africa                    65   \n",
       "5      WH06  2025-01-06      Asia                    34   \n",
       "7      WH08  2025-01-08  Americas                    34   \n",
       "1      WH02  2025-01-02      Asia                   182   \n",
       "3      WH04  2025-01-04  Americas                   123   \n",
       "\n",
       "                       Topic  \\\n",
       "6         HIV/AIDS Treatment   \n",
       "5  Non-Communicable Diseases   \n",
       "7               Telemedicine   \n",
       "1          COVID-19 Variants   \n",
       "3              Mental Health   \n",
       "\n",
       "                                             Summary    Impact  \n",
       "6  Progress in HIV/AIDS treatment protocols in Af...      High  \n",
       "5  Focus on reducing non-communicable diseases in...  Moderate  \n",
       "7   Telemedicine adoption increased in the Americas.      High  \n",
       "1       New variants of COVID-19 identified in Asia.  Moderate  \n",
       "3  WHO highlights mental health resources in the ...  Moderate  "
      ]
     },
     "execution_count": 47,
     "metadata": {},
     "output_type": "execute_result"
    }
   ],
   "source": [
    "healthcare_updates_df.sample(5)"
   ]
  },
  {
   "cell_type": "code",
   "execution_count": 48,
   "id": "b9151721-1f26-4391-9172-8e4277b79349",
   "metadata": {},
   "outputs": [
    {
     "data": {
      "text/html": [
       "<div>\n",
       "<style scoped>\n",
       "    .dataframe tbody tr th:only-of-type {\n",
       "        vertical-align: middle;\n",
       "    }\n",
       "\n",
       "    .dataframe tbody tr th {\n",
       "        vertical-align: top;\n",
       "    }\n",
       "\n",
       "    .dataframe thead th {\n",
       "        text-align: right;\n",
       "    }\n",
       "</style>\n",
       "<table border=\"1\" class=\"dataframe\">\n",
       "  <thead>\n",
       "    <tr style=\"text-align: right;\">\n",
       "      <th></th>\n",
       "      <th>Update_ID</th>\n",
       "      <th>Date</th>\n",
       "      <th>Region</th>\n",
       "      <th>no.of patients in(k)</th>\n",
       "      <th>Topic</th>\n",
       "      <th>Summary</th>\n",
       "      <th>Impact</th>\n",
       "    </tr>\n",
       "  </thead>\n",
       "  <tbody>\n",
       "    <tr>\n",
       "      <th>0</th>\n",
       "      <td>WH01</td>\n",
       "      <td>2025-01-01</td>\n",
       "      <td>Europe</td>\n",
       "      <td>12</td>\n",
       "      <td>Vaccine Rollout</td>\n",
       "      <td>WHO announces new vaccine rollout guidelines f...</td>\n",
       "      <td>High</td>\n",
       "    </tr>\n",
       "    <tr>\n",
       "      <th>1</th>\n",
       "      <td>WH02</td>\n",
       "      <td>2025-01-02</td>\n",
       "      <td>Asia</td>\n",
       "      <td>182</td>\n",
       "      <td>COVID-19 Variants</td>\n",
       "      <td>New variants of COVID-19 identified in Asia.</td>\n",
       "      <td>Moderate</td>\n",
       "    </tr>\n",
       "    <tr>\n",
       "      <th>2</th>\n",
       "      <td>WH03</td>\n",
       "      <td>2025-01-03</td>\n",
       "      <td>Africa</td>\n",
       "      <td>203</td>\n",
       "      <td>Malaria Prevention</td>\n",
       "      <td>New strategies for malaria prevention in Africa.</td>\n",
       "      <td>High</td>\n",
       "    </tr>\n",
       "    <tr>\n",
       "      <th>3</th>\n",
       "      <td>WH04</td>\n",
       "      <td>2025-01-04</td>\n",
       "      <td>Americas</td>\n",
       "      <td>123</td>\n",
       "      <td>Mental Health</td>\n",
       "      <td>WHO highlights mental health resources in the ...</td>\n",
       "      <td>Moderate</td>\n",
       "    </tr>\n",
       "    <tr>\n",
       "      <th>4</th>\n",
       "      <td>WH05</td>\n",
       "      <td>2025-01-05</td>\n",
       "      <td>Europe</td>\n",
       "      <td>321</td>\n",
       "      <td>Healthcare Workforce</td>\n",
       "      <td>Shortage of healthcare workers in Europe addre...</td>\n",
       "      <td>High</td>\n",
       "    </tr>\n",
       "    <tr>\n",
       "      <th>5</th>\n",
       "      <td>WH06</td>\n",
       "      <td>2025-01-06</td>\n",
       "      <td>Asia</td>\n",
       "      <td>34</td>\n",
       "      <td>Non-Communicable Diseases</td>\n",
       "      <td>Focus on reducing non-communicable diseases in...</td>\n",
       "      <td>Moderate</td>\n",
       "    </tr>\n",
       "    <tr>\n",
       "      <th>6</th>\n",
       "      <td>WH07</td>\n",
       "      <td>2025-01-07</td>\n",
       "      <td>Africa</td>\n",
       "      <td>65</td>\n",
       "      <td>HIV/AIDS Treatment</td>\n",
       "      <td>Progress in HIV/AIDS treatment protocols in Af...</td>\n",
       "      <td>High</td>\n",
       "    </tr>\n",
       "    <tr>\n",
       "      <th>7</th>\n",
       "      <td>WH08</td>\n",
       "      <td>2025-01-08</td>\n",
       "      <td>Americas</td>\n",
       "      <td>34</td>\n",
       "      <td>Telemedicine</td>\n",
       "      <td>Telemedicine adoption increased in the Americas.</td>\n",
       "      <td>High</td>\n",
       "    </tr>\n",
       "  </tbody>\n",
       "</table>\n",
       "</div>"
      ],
      "text/plain": [
       "  Update_ID        Date    Region  no.of patients in(k)  \\\n",
       "0      WH01  2025-01-01    Europe                    12   \n",
       "1      WH02  2025-01-02      Asia                   182   \n",
       "2      WH03  2025-01-03    Africa                   203   \n",
       "3      WH04  2025-01-04  Americas                   123   \n",
       "4      WH05  2025-01-05    Europe                   321   \n",
       "5      WH06  2025-01-06      Asia                    34   \n",
       "6      WH07  2025-01-07    Africa                    65   \n",
       "7      WH08  2025-01-08  Americas                    34   \n",
       "\n",
       "                       Topic  \\\n",
       "0            Vaccine Rollout   \n",
       "1          COVID-19 Variants   \n",
       "2         Malaria Prevention   \n",
       "3              Mental Health   \n",
       "4       Healthcare Workforce   \n",
       "5  Non-Communicable Diseases   \n",
       "6         HIV/AIDS Treatment   \n",
       "7               Telemedicine   \n",
       "\n",
       "                                             Summary    Impact  \n",
       "0  WHO announces new vaccine rollout guidelines f...      High  \n",
       "1       New variants of COVID-19 identified in Asia.  Moderate  \n",
       "2   New strategies for malaria prevention in Africa.      High  \n",
       "3  WHO highlights mental health resources in the ...  Moderate  \n",
       "4  Shortage of healthcare workers in Europe addre...      High  \n",
       "5  Focus on reducing non-communicable diseases in...  Moderate  \n",
       "6  Progress in HIV/AIDS treatment protocols in Af...      High  \n",
       "7   Telemedicine adoption increased in the Americas.      High  "
      ]
     },
     "execution_count": 48,
     "metadata": {},
     "output_type": "execute_result"
    }
   ],
   "source": [
    "healthcare_updates_df.dropna()"
   ]
  },
  {
   "cell_type": "code",
   "execution_count": 49,
   "id": "7fa96011-83da-4a56-b298-d0eb20eb9b8a",
   "metadata": {},
   "outputs": [
    {
     "data": {
      "text/plain": [
       "0    False\n",
       "1    False\n",
       "2    False\n",
       "3    False\n",
       "4    False\n",
       "5    False\n",
       "6    False\n",
       "7    False\n",
       "dtype: bool"
      ]
     },
     "execution_count": 49,
     "metadata": {},
     "output_type": "execute_result"
    }
   ],
   "source": [
    "healthcare_updates_df.duplicated()"
   ]
  },
  {
   "cell_type": "markdown",
   "id": "0e407add-39d0-475d-8849-c106a629c322",
   "metadata": {},
   "source": [
    "# Explore the datset by using different options through matplotlib"
   ]
  },
  {
   "cell_type": "code",
   "execution_count": 50,
   "id": "001d84ee-48f7-4ac0-9d36-a41b1861b104",
   "metadata": {},
   "outputs": [
    {
     "data": {
      "text/plain": [
       "<Axes: xlabel='Date'>"
      ]
     },
     "execution_count": 50,
     "metadata": {},
     "output_type": "execute_result"
    },
    {
     "data": {
      "image/png": "[encoded data removed]",
      "text/plain": [
       "<Figure size 640x480 with 1 Axes>"
      ]
     },
     "metadata": {},
     "output_type": "display_data"
    }
   ],
   "source": [
    "healthcare_updates_df.plot(x='Date', y='no.of patients in(k)', marker=\"o\")"
   ]
  },
  {
   "cell_type": "code",
   "execution_count": 51,
   "id": "5cdf8cb9-cd38-4013-afb6-f02f12780380",
   "metadata": {},
   "outputs": [
    {
     "data": {
      "text/plain": [
       "array([[<Axes: title={'center': 'no.of patients in(k)'}>]], dtype=object)"
      ]
     },
     "execution_count": 51,
     "metadata": {},
     "output_type": "execute_result"
    },
    {
     "data": {
      "image/png": "[encoded data removed]",
      "text/plain": [
       "<Figure size 500x400 with 1 Axes>"
      ]
     },
     "metadata": {},
     "output_type": "display_data"
    }
   ],
   "source": [
    "healthcare_updates_df.hist(bins=10,figsize=(5,4))"
   ]
  },
  {
   "cell_type": "code",
   "execution_count": 52,
   "id": "8d8f7b8e-df8e-4c07-9b7b-a9de456b7ae9",
   "metadata": {},
   "outputs": [
    {
     "data": {
      "text/plain": [
       "<Axes: >"
      ]
     },
     "execution_count": 52,
     "metadata": {},
     "output_type": "execute_result"
    },
    {
     "data": {
      "image/png": "[encoded data removed]",
      "text/plain": [
       "<Figure size 640x480 with 1 Axes>"
      ]
     },
     "metadata": {},
     "output_type": "display_data"
    }
   ],
   "source": [
    "healthcare_updates_df.boxplot()"
   ]
  },
  {
   "cell_type": "code",
   "execution_count": null,
   "id": "8b0904d2-99e4-412e-86c1-1e7e20a66cb8",
   "metadata": {},
   "outputs": [],
   "source": []
  }
 ],
 "metadata": {
  "kernelspec": {
   "display_name": "Python 3 (ipykernel)",
   "language": "python",
   "name": "python3"
  },
  "language_info": {
   "codemirror_mode": {
    "name": "ipython",
    "version": 3
   },
   "file_extension": ".py",
   "mimetype": "text/x-python",
   "name": "python",
   "nbconvert_exporter": "python",
   "pygments_lexer": "ipython3",
   "version": "3.13.0"
  }
 },
 "nbformat": 4,
 "nbformat_minor": 5
}
